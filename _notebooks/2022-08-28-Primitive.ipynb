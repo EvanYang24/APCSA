{
 "cells": [
  {
   "cell_type": "markdown",
   "metadata": {},
   "source": [
    "# Primitives Notebook"
   ]
  },
  {
   "cell_type": "code",
   "execution_count": 2,
   "metadata": {},
   "outputs": [
    {
     "name": "stdout",
     "output_type": "stream",
     "text": [
      "Enter a temperature in Celsius: 8.0\n",
      "8.0 degrees celsius is equal to 46.4 degrees farenheit\n"
     ]
    }
   ],
   "source": [
    "import java.util.Scanner;\n",
    "\n",
    "public class CeltToFaren {\n",
    "    public static void main(String[] args) {\n",
    "        Scanner input;\n",
    "        double Faren = 0.0;\n",
    "        double Cels = 0.0;\n",
    "        String FinalOutput;\n",
    "        boolean correctDouble;\n",
    "\n",
    "        input = new Scanner(System.in);\n",
    "        System.out.print(\"Enter a temperature in Celsius: \");\n",
    "        try {\n",
    "            Cels = input.nextDouble();\n",
    "            System.out.println(Cels);\n",
    "            correctDouble = true;\n",
    "        } catch (Exception e) {\n",
    "            correctDouble = false;\n",
    "        }\n",
    "        input.close();\n",
    "\n",
    "        Faren = ((Cels * 9) / 5) + 32; \n",
    "\n",
    "        FinalOutput =   Cels + \" degrees celsius is equal to \" + Faren + \" degrees farenheit\";\n",
    "\n",
    "        System.out.println( Cels + \" degrees celsius is equal to \" + Faren + \" degrees farenheit\"); \n",
    "    }\n",
    "}\n",
    "CeltToFaren.main(null);"
   ]
  }
 ],
 "metadata": {
  "kernelspec": {
   "display_name": "Java",
   "language": "java",
   "name": "java"
  },
  "language_info": {
   "codemirror_mode": "java",
   "file_extension": ".jshell",
   "mimetype": "text/x-java-source",
   "name": "java",
   "pygments_lexer": "java",
   "version": "11.0.16+8-post-Ubuntu-0ubuntu120.04"
  },
  "orig_nbformat": 4
 },
 "nbformat": 4,
 "nbformat_minor": 2
}
