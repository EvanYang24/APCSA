{
 "cells": [
  {
   "cell_type": "markdown",
   "id": "f8d25db8",
   "metadata": {},
   "source": [
    "# Java Notebook \n",
    "- toc: true \n",
    "- badges: true\n",
    "- comments: true\n",
    "- categories: [jupyter]"
   ]
  },
  {
   "cell_type": "code",
   "execution_count": 2,
   "id": "8214ec5c",
   "metadata": {},
   "outputs": [
    {
     "name": "stdout",
     "output_type": "stream",
     "text": [
      "Hello World!\n"
     ]
    }
   ],
   "source": [
    "public class HelloWorld {\n",
    "    public static void main(String[] args) {\n",
    "        System.out.println(\"Hello World!\");\n",
    "    }\n",
    "}\n",
    "\n",
    "HelloWorld.main(null);"
   ]
  },
  {
   "cell_type": "code",
   "execution_count": null,
   "id": "bfd7f260",
   "metadata": {},
   "outputs": [],
   "source": []
  }
 ],
 "metadata": {
  "kernelspec": {
   "display_name": "Java",
   "language": "java",
   "name": "java"
  },
  "language_info": {
   "codemirror_mode": "java",
   "file_extension": ".jshell",
   "mimetype": "text/x-java-source",
   "name": "java",
   "pygments_lexer": "java",
   "version": "3.9.12"
  },
  "vscode": {
   "interpreter": {
    "hash": "ba69a24433a962cb8da2b0fb9b62ca0bf2ff22e4f631a9437fb3eefc8eca3549"
   }
  }
 },
 "nbformat": 4,
 "nbformat_minor": 5
}
