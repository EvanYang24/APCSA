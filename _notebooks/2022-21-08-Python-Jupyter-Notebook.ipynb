{
 "cells": [
  {
   "cell_type": "markdown",
   "id": "c4b59162",
   "metadata": {},
   "source": [
    "# Python Notebook"
   ]
  },
  {
   "cell_type": "code",
   "execution_count": 1,
   "id": "c3e48f83",
   "metadata": {},
   "outputs": [
    {
     "name": "stdout",
     "output_type": "stream",
     "text": [
      "Hello World\n",
      "Sanjay's Python Notebook\n"
     ]
    }
   ],
   "source": [
    "print(\"Hello World\")\n",
    "print(\"Sanjay's Python Notebook\")"
   ]
  },
  {
   "cell_type": "code",
   "execution_count": null,
   "id": "8afa4173",
   "metadata": {},
   "outputs": [],
   "source": []
  }
 ],
 "metadata": {
  "kernelspec": {
   "display_name": "Python 3 (ipykernel)",
   "language": "python",
   "name": "python3"
  },
  "language_info": {
   "codemirror_mode": {
    "name": "ipython",
    "version": 3
   },
   "file_extension": ".py",
   "mimetype": "text/x-python",
   "name": "python",
   "nbconvert_exporter": "python",
   "pygments_lexer": "ipython3",
   "version": "3.9.12"
  }
 },
 "nbformat": 4,
 "nbformat_minor": 5
}
