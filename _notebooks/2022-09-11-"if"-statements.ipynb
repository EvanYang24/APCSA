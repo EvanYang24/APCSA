{
 "cells": [
  {
   "cell_type": "markdown",
   "id": "9734fbc3",
   "metadata": {},
   "source": [
    "## Lesson on \"if\" Statements"
   ]
  },
  {
   "cell_type": "markdown",
   "id": "eecd16d2",
   "metadata": {},
   "source": [
    "# if statements are used to run a method based on if something specifically described happens."
   ]
  },
  {
   "cell_type": "code",
   "execution_count": 1,
   "id": "77ab323d",
   "metadata": {
    "vscode": {
     "languageId": "java"
    }
   },
   "outputs": [
    {
     "name": "stdout",
     "output_type": "stream",
     "text": [
      "Enter the first number: 18.0\n",
      "Enter the second number: 9.8\n",
      "18.0 is greater than 9.8\n"
     ]
    }
   ],
   "source": [
    "import java.util.Scanner;\n",
    "Scanner scanner = new Scanner(System.in);\n",
    "\n",
    "double x;\n",
    "double y;\n",
    "\n",
    "System.out.print(\"Enter the first number: \");\n",
    "\n",
    "x = scanner.nextDouble();\n",
    "\n",
    "System.out.println(x);\n",
    "\n",
    "System.out.print(\"Enter the second number: \");\n",
    "\n",
    "y = scanner.nextDouble();\n",
    "\n",
    "System.out.println(y);\n",
    "\n",
    "if (x > y) {\n",
    "  System.out.println(x + \" is greater than \" + y);\n",
    "}"
   ]
  },
  {
   "cell_type": "markdown",
   "id": "ce4a083b",
   "metadata": {},
   "source": [
    "# if-else -- if the specific condition is true then proceed below and run the method BUT if the condition is false then proceed with the different set of instructions defined"
   ]
  },
  {
   "cell_type": "code",
   "execution_count": 2,
   "id": "8f3bd24c",
   "metadata": {
    "vscode": {
     "languageId": "java"
    }
   },
   "outputs": [
    {
     "name": "stdout",
     "output_type": "stream",
     "text": [
      "Enter the first number: 4.0\n",
      "Enter the second number: 19.0\n",
      "19.0 is greater than 4.0\n"
     ]
    }
   ],
   "source": [
    "import java.util.Scanner;\n",
    "Scanner scanner = new Scanner(System.in);\n",
    "\n",
    "double x;\n",
    "double y;\n",
    "\n",
    "System.out.print(\"Enter the first number: \");\n",
    "\n",
    "x = scanner.nextDouble();\n",
    "\n",
    "System.out.println(x);\n",
    "\n",
    "System.out.print(\"Enter the second number: \");\n",
    "\n",
    "y = scanner.nextDouble();\n",
    "\n",
    "System.out.println(y);\n",
    "\n",
    "if (x > y) {\n",
    "  System.out.println(x + \" is greater than \" + y);\n",
    "} else {\n",
    "    System.out.println(y + \" is greater than \" + x);\n",
    "}"
   ]
  },
  {
   "cell_type": "markdown",
   "id": "4166631d",
   "metadata": {},
   "source": [
    "# if-elseif-else -- if the specific condition is true then proceed below and run the method BUT if the condition is not met try the next condition and if the condition is met run this code segment now if both of the conditions are false then proceed with the different set of instructions defined"
   ]
  },
  {
   "cell_type": "code",
   "execution_count": 3,
   "id": "518b61e2",
   "metadata": {
    "vscode": {
     "languageId": "java"
    }
   },
   "outputs": [
    {
     "name": "stdout",
     "output_type": "stream",
     "text": [
      "Enter the first number: 9.3\n",
      "Enter the second number: 9.3\n",
      "9.3 is equal to 9.3\n"
     ]
    }
   ],
   "source": [
    "import java.util.Scanner;\n",
    "Scanner scanner = new Scanner(System.in);\n",
    "\n",
    "double x;\n",
    "double y;\n",
    "\n",
    "System.out.print(\"Enter the first number: \");\n",
    "\n",
    "x = scanner.nextDouble();\n",
    "\n",
    "System.out.println(x);\n",
    "\n",
    "System.out.print(\"Enter the second number: \");\n",
    "\n",
    "y = scanner.nextDouble();\n",
    "\n",
    "System.out.println(y);\n",
    "\n",
    "if (x > y) {\n",
    "  System.out.println(x + \" is greater than \" + y);\n",
    "} else if (x == y) {\n",
    "  System.out.println(x + \" is equal to \" + y);\n",
    "}\n",
    "else {\n",
    "    System.out.println(y + \" is greater than \" + x);\n",
    "}"
   ]
  },
  {
   "cell_type": "markdown",
   "id": "9469dd95",
   "metadata": {},
   "source": [
    "# Create and if-elseif-elseif-elsif-else statement, 5 or more conditions."
   ]
  },
  {
   "cell_type": "code",
   "execution_count": 4,
   "id": "3b29cc80",
   "metadata": {
    "vscode": {
     "languageId": "java"
    }
   },
   "outputs": [
    {
     "name": "stdout",
     "output_type": "stream",
     "text": [
      "Enter the first number: 33.8\n",
      "Enter the operator (+,-,*,/): *\n",
      "Enter the second number: 8.7\n",
      "294.05999999999995\n"
     ]
    }
   ],
   "source": [
    "import java.util.Scanner;\n",
    "Scanner scanner = new Scanner(System.in);\n",
    "\n",
    "double x;\n",
    "double y;\n",
    "\n",
    "System.out.print(\"Enter the first number: \");\n",
    "\n",
    "x = scanner.nextDouble();\n",
    "\n",
    "System.out.println(x);\n",
    "\n",
    "System.out.print(\"Enter the operator (+,-,*,/): \");\n",
    "\n",
    "char operator = scanner.next().charAt(0);\n",
    "\n",
    "System.out.println(operator);\n",
    "\n",
    "System.out.print(\"Enter the second number: \");\n",
    "\n",
    "y = scanner.nextDouble();\n",
    "\n",
    "System.out.println(y);\n",
    "\n",
    "if (operator == '+') {\n",
    "  System.out.println(x + y);\n",
    "} else if (operator == '-') {\n",
    "  System.out.println(x - y);\n",
    "} else if (operator == '*') {\n",
    "  System.out.println(x * y);\n",
    "} else if (operator == '/') {\n",
    "  System.out.println(x / y);\n",
    "} else {\n",
    "  System.out.println(\"Invalid operator\");\n",
    "}"
   ]
  },
  {
   "cell_type": "markdown",
   "id": "f49d40b0",
   "metadata": {},
   "source": [
    "# Covert the 5 or more decisions to a switch-case-case-case-case-otherwise."
   ]
  },
  {
   "cell_type": "code",
   "execution_count": 6,
   "id": "a93f53c7",
   "metadata": {
    "vscode": {
     "languageId": "java"
    }
   },
   "outputs": [
    {
     "name": "stdout",
     "output_type": "stream",
     "text": [
      "Enter the first number: 44.0\n",
      "Enter the operator (+,-,*,/): /\n",
      "Enter second number: 4.0\n",
      "The final result: \n",
      "44.0 / 4.0 = 11.0\n"
     ]
    }
   ],
   "source": [
    "double num1, num2;\n",
    "\n",
    "// Take input from the user\n",
    "Scanner scanner = new Scanner(System.in);\n",
    "\n",
    "System.out.print(\"Enter the first number: \");\n",
    "\n",
    "// take the inputs\n",
    "num1 = scanner.nextDouble();\n",
    "\n",
    "System.out.println(num1);\n",
    "\n",
    "System.out.print(\"Enter the operator (+,-,*,/): \");\n",
    "\n",
    "char operator = scanner.next().charAt(0);\n",
    "\n",
    "System.out.println(operator);\n",
    "\n",
    "System.out.print(\"Enter second number: \");\n",
    "\n",
    "num2 = scanner.nextDouble();\n",
    "\n",
    "System.out.println(num2);\n",
    "\n",
    "double output = 0;\n",
    "\n",
    "switch (operator) {\n",
    "\n",
    "// case to add two numbers\n",
    "case '+':\n",
    "\n",
    "    output = num1 + num2;\n",
    "\n",
    "    break;\n",
    "\n",
    "// case to subtract two numbers\n",
    "case '-':\n",
    "\n",
    "    output = num1 - num2;\n",
    "\n",
    "    break;\n",
    "\n",
    "// case to multiply two numbers\n",
    "case '*':\n",
    "\n",
    "    output = num1 * num2;\n",
    "\n",
    "    break;\n",
    "\n",
    "// case to divide two numbers\n",
    "case '/':\n",
    "\n",
    "    output = num1 / num2;\n",
    "\n",
    "    break;\n",
    "\n",
    "default:\n",
    "\n",
    "    System.out.println(\"Invalid input\");\n",
    "\n",
    "    break;\n",
    "}\n",
    "\n",
    "System.out.println(\"The final result: \");\n",
    "\n",
    "// print the final result\n",
    "System.out.println(num1 + \" \" + operator + \" \" + num2 + \" = \" + output);"
   ]
  },
  {
   "cell_type": "markdown",
   "id": "6125aae5",
   "metadata": {},
   "source": [
    "## De Morgan's Law\n",
    "# In the 1800s, Augustus De Morgan created the DeMorgan laws. They demonstrate how to handle a complicated conditional negation, which is a conditional statement that has several conditions connected by and (&&), or (||), or (||), such as (x 3) && (y > 2).\n",
    "\n",
    "# The same as \"not a\" or \"not (a and b)\" (not b). This is written as! in Java. (a && b) == ! a || ! b\n",
    "\n",
    "# The equivalent of not (a or b) is not (a) and (not b). This is written as! in Java. (a || b) == ! a && ! b\n",
    "\n",
    "# The negation modifies each conditional:\n",
    "\n",
    "# < becomes >=\n",
    "# becomes <=\n",
    "\n",
    "# == becomes !=\n",
    "# <= becomes >\n",
    "# = becomes <\n",
    "\n",
    "# != becomes =="
   ]
  },
  {
   "cell_type": "code",
   "execution_count": 17,
   "id": "e7195926",
   "metadata": {
    "vscode": {
     "languageId": "java"
    }
   },
   "outputs": [
    {
     "name": "stdout",
     "output_type": "stream",
     "text": [
      "true\n"
     ]
    }
   ],
   "source": [
    "public class DeMorgansAndTest\n",
    "{\n",
    "   public static void main(String[] args)\n",
    "   {\n",
    "     int x = 6;\n",
    "     int y = 3;\n",
    "     System.out.println(!(x > 6 && y < 3));\n",
    "     // prints true if x is not > 6 OR y is not < 3\n",
    "     // prints false otherwise\n",
    "     // this output should be true as x IS > 6 BUT y IS NOT < 3\n",
    "   }\n",
    "}\n",
    "\n",
    "DeMorgansAndTest.main(null)"
   ]
  },
  {
   "cell_type": "code",
   "execution_count": 18,
   "id": "78c89c37",
   "metadata": {
    "vscode": {
     "languageId": "java"
    }
   },
   "outputs": [
    {
     "name": "stdout",
     "output_type": "stream",
     "text": [
      "false\n"
     ]
    }
   ],
   "source": [
    "public class DeMorgansOrTest\n",
    "{\n",
    "   public static void main(String[] args)\n",
    "   {\n",
    "     int x = 0;\n",
    "     int y = 5;\n",
    "     System.out.println(!(x < 3 || y > 2));\n",
    "     // prints true if x is not < 3 AND y is not > 2\n",
    "     // prints false otherwise\n",
    "     // this output should be false as x IS > 3 AND y IS > 2\n",
    "   }\n",
    "}\n",
    "DeMorgansOrTest.main(null)"
   ]
  }
 ],
 "metadata": {
  "kernelspec": {
   "display_name": "Java",
   "language": "java",
   "name": "java"
  },
  "language_info": {
   "codemirror_mode": "java",
   "file_extension": ".jshell",
   "mimetype": "text/x-java-source",
   "name": "Java",
   "pygments_lexer": "java",
   "version": "11.0.16+8-post-Ubuntu-0ubuntu120.04"
  },
  "vscode": {
   "interpreter": {
    "hash": "ba69a24433a962cb8da2b0fb9b62ca0bf2ff22e4f631a9437fb3eefc8eca3549"
   }
  }
 },
 "nbformat": 4,
 "nbformat_minor": 5
}
