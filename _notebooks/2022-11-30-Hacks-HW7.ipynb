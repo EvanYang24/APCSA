{
 "cells": [
  {
   "cell_type": "markdown",
   "metadata": {},
   "source": [
    "# Hack 1\n",
    "- categories: [homework]"
   ]
  },
  {
   "cell_type": "code",
   "execution_count": 4,
   "metadata": {},
   "outputs": [
    {
     "name": "stdout",
     "output_type": "stream",
     "text": [
      "Larry Bird\n",
      "Lonzo Ball\n",
      "Stephen Curry\n",
      "Giannis Antetokounmpo\n",
      "Shaquille O'Neal\n",
      "Klay Thompson\n",
      "Karl Anthony Towns\n"
     ]
    }
   ],
   "source": [
    "import java.util.*;\n",
    "      \n",
    "// create an empty array list with an initial capacity\n",
    "ArrayList<String> player_list = new ArrayList<String>(7);\n",
    "\n",
    "// use add() method to add values in the list\n",
    "player_list.add(\"Larry Bird\");\n",
    "player_list.add(\"Stephen Curry\");\n",
    "player_list.add(\"Shaquille O'Neal\");\n",
    "player_list.add(\"Klay Thompson\");\n",
    "player_list.add(\"Karl Anthony Towns\");\n",
    "  \n",
    "// Insert Nocolor in 2nd and 4th position in the list \t\n",
    "player_list.add(1,\"Lonzo Ball\");\t\n",
    "player_list.add(3,\"Giannis Antetokounmpo\");\t\t\n",
    "\n",
    "// Print out the colors in the ArrayList\n",
    "for (int i = 0; i < 7; i++)\n",
    "  {\n",
    "      System.out.println(player_list.get(i).toString());\n",
    "  }\n"
   ]
  },
  {
   "cell_type": "markdown",
   "metadata": {},
   "source": [
    "# Hack 2"
   ]
  },
  {
   "cell_type": "code",
   "execution_count": 2,
   "metadata": {},
   "outputs": [
    {
     "name": "stdout",
     "output_type": "stream",
     "text": [
      "[green box, blue water]\n"
     ]
    }
   ],
   "source": [
    "ArrayList<String> color = new ArrayList<>(); \n",
    "color.add(\"red apple\");\n",
    "color.add(\"green box\");\n",
    "color.add(\"blue water\");\n",
    "color.add(\"red panda\");\n",
    "\n",
    "\n",
    "for(int i = color.size() - 1; i >= 0; i--) \n",
    "{\n",
    "        if(color.get(i).contains(\"red\"))\n",
    "        {\n",
    "                color.remove(i);      \n",
    "        }\n",
    "        \n",
    "}\n",
    "System.out.println(color);\n"
   ]
  },
  {
   "cell_type": "markdown",
   "metadata": {},
   "source": [
    "# Hack 3"
   ]
  },
  {
   "cell_type": "code",
   "execution_count": 6,
   "metadata": {},
   "outputs": [
    {
     "name": "stdout",
     "output_type": "stream",
     "text": [
      "510349"
     ]
    }
   ],
   "source": [
    "\n",
    "ArrayList<Integer> num = new ArrayList<Integer>(); \n",
    "\n",
    "num.add(510323);\n",
    "num.add(23);\n",
    "num.add(3);\n",
    "\n",
    "int sum = 0;\n",
    "for (int number: num) {\n",
    "  sum += number; \n",
    "}\n",
    "System.out.print(sum);"
   ]
  }
 ],
 "metadata": {
  "kernelspec": {
   "display_name": "Java",
   "language": "java",
   "name": "java"
  },
  "language_info": {
   "codemirror_mode": "java",
   "file_extension": ".jshell",
   "mimetype": "text/x-java-source",
   "name": "java",
   "pygments_lexer": "java",
   "version": "11.0.16+8-post-Ubuntu-0ubuntu120.04"
  },
  "orig_nbformat": 4
 },
 "nbformat": 4,
 "nbformat_minor": 2
}
