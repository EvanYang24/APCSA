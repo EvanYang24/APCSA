{
 "cells": [
  {
   "cell_type": "markdown",
   "id": "c4b59162",
   "metadata": {},
   "source": [
    "# Python Notebook\n",
    "- toc: true \n",
    "- badges: true\n",
    "- comments: true\n",
    "- categories: [jupyter]"
   ]
  },
  {
   "cell_type": "code",
   "execution_count": 1,
   "id": "c3e48f83",
   "metadata": {},
   "outputs": [
    {
     "name": "stdout",
     "output_type": "stream",
     "text": [
      "Hello World\n",
      "Evan's Python Notebook\n"
     ]
    }
   ],
   "source": [
    "print(\"Hello World\")\n",
    "print(\"Evan's Python Notebook\")"
   ]
  },
  {
   "cell_type": "code",
   "execution_count": null,
   "id": "8afa4173",
   "metadata": {},
   "outputs": [],
   "source": []
  }
 ],
 "metadata": {
  "kernelspec": {
   "display_name": "Java",
   "language": "java",
   "name": "java"
  },
  "language_info": {
   "codemirror_mode": {
    "name": "ipython",
    "version": 3
   },
   "file_extension": ".py",
   "mimetype": "text/x-python",
   "name": "java",
   "nbconvert_exporter": "python",
   "pygments_lexer": "ipython3",
   "version": "3.9.12"
  },
  "vscode": {
   "interpreter": {
    "hash": "ba69a24433a962cb8da2b0fb9b62ca0bf2ff22e4f631a9437fb3eefc8eca3549"
   }
  }
 },
 "nbformat": 4,
 "nbformat_minor": 5
}
