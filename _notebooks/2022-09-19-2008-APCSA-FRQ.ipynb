{
 "cells": [
  {
   "cell_type": "markdown",
   "id": "7f002311",
   "metadata": {},
   "source": [
    "# 2008 AP CSA FRQ"
   ]
  },
  {
   "cell_type": "markdown",
   "id": "ddb0159d",
   "metadata": {},
   "source": [
    "### (a) Complete method getDuration below.\n",
    "  return the number of minutes from the departure of the first flight to the arrival\n",
    "  of the last flight if there are one or more flights in the trip;\n",
    "  0, if there are no flights in the trip\n",
    " /\n",
    " public int getDuration() "
   ]
  },
  {
   "cell_type": "code",
   "execution_count": null,
   "id": "24177bfc",
   "metadata": {},
   "outputs": [],
   "source": [
    "public class Trip\n",
    "{\n",
    "    private ArrayList<Flight> flights;\n",
    "\n",
    "    public int getDuration()\n",
    "    {\n",
    "        return((flights.get(0)).getDepartureTime()).minutesUntil((flights.get(flights.size0-1)).getArrivalTime());\n",
    "    }\n",
    "}\n",
    "System.out.println(getDuration())"
   ]
  },
  {
   "cell_type": "markdown",
   "id": "94044223",
   "metadata": {},
   "source": [
    "### (b) Precondition: the departure time for each flight is later than the arrival time of its\n",
    " preceding flight\n",
    "  return the smallest number of minutes between the arrival of a flight and the departure\n",
    "  of the flight immediately after it, if there are two or more flights in the trip;\n",
    " -1, if there are fewer than two flights in the trip"
   ]
  },
  {
   "cell_type": "code",
   "execution_count": 18,
   "id": "76760068",
   "metadata": {},
   "outputs": [],
   "source": [
    "public int getShortestLayover()\n",
    "{if(flights.size()<2)\n",
    "    {return -1;}\n",
    "int small=flights.get(0).getArrivalTime().minutesUntil(\n",
    "        flights.get(1).getDepartureTime());\n",
    "for(int index=1; index<flights.size()-1; index++)\n",
    "{if(flights.get(index).getArrivalTime().minutesUntil(\n",
    "    flights.get(index+1).getDepartureTime())<small)\n",
    "{small=flightsget(index).getArrivalTime().minutesUntil;\n",
    "    flights.get(index+1).getDepartureTime();\n",
    "        }\n",
    "    }\n",
    "return small;\n",
    "}"
   ]
  },
  {
   "cell_type": "markdown",
   "id": "77556297",
   "metadata": {},
   "source": [
    "##### In part (a) I correctly accesses the departure time of the first flight by calling getDepartureTime correctly on the first element of the ArrayList of flights and correctly accesses the arrival time of the final flight by calling getArrivalTime on the final element of the ArrayList of flights. I correctly use the returned Time objects as parameters in the call to the minutesUntil method that will return the correct answer for this solution.\n",
    "##### In part (b) I correctly check the data structure for a size of at least two flights, which is needed to create a layover between flights, and I correctly returns a -1 if the structure was too small. I then correctly accesses all of the elements of the data structure. I uses these elements to correctly get a layover time between two flights, compares this layover time with the smallest time so far, and then correctly saves the layover time if it is smaller. I then returns the smallest calculated layover. "
   ]
  }
 ],
 "metadata": {
  "kernelspec": {
   "display_name": "Java",
   "language": "java",
   "name": "java"
  },
  "language_info": {
   "codemirror_mode": "java",
   "file_extension": ".jshell",
   "mimetype": "text/x-java-source",
   "name": "java",
   "pygments_lexer": "java",
   "version": "11.0.16+8-post-Ubuntu-0ubuntu120.04"
  },
  "vscode": {
   "interpreter": {
    "hash": "ba69a24433a962cb8da2b0fb9b62ca0bf2ff22e4f631a9437fb3eefc8eca3549"
   }
  }
 },
 "nbformat": 4,
 "nbformat_minor": 5
}
