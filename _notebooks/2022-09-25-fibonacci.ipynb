{
 "cells": [
  {
   "cell_type": "markdown",
   "id": "de47fca2",
   "metadata": {},
   "source": [
    "# Fibonacci\n",
    "- toc: true \n",
    "- badges: true\n",
    "- comments: true\n",
    "- categories: [jupyter]"
   ]
  },
  {
   "cell_type": "markdown",
   "id": "ed3548e4",
   "metadata": {},
   "source": [
    "### Fibonacci For Loop"
   ]
  },
  {
   "cell_type": "code",
   "execution_count": 12,
   "id": "871a2549",
   "metadata": {},
   "outputs": [
    {
     "name": "stdout",
     "output_type": "stream",
     "text": [
      "Fibonacci Series of 16 numbers:0 1 1 2 3 5 8 13 21 34 55 89 144 233 377 610 "
     ]
    }
   ],
   "source": [
    "//Using  For Loop\n",
    "public class FibonacciExample {\n",
    " \n",
    "\tpublic static void main(String[] args) \n",
    "\t{\n",
    "\t\t// Set it to the number of elements you want in the Fibonacci Series\n",
    "\t\t int maxValue = 16; \n",
    "\t\t int previousNumber = 0;\n",
    "\t\t int nextNumber = 1;\n",
    "\t\t \n",
    "\t        System.out.print(\"Fibonacci Series of \"+maxValue+\" numbers:\");\n",
    " \n",
    "\t        for (int i = 1; i <= maxValue; ++i)\n",
    "\t        {\n",
    "\t            System.out.print(previousNumber+\" \");\n",
    "\t            /* On each iteration, we are assigning second number\n",
    "\t             * to the first number and assigning the sum of last two\n",
    "\t             * numbers to the second number\n",
    "\t             */\n",
    " \n",
    "\t      \n",
    "\t            int sum = previousNumber + nextNumber;\n",
    "\t            previousNumber = nextNumber;\n",
    "\t            nextNumber = sum;\n",
    "\t        }\n",
    "\t}\n",
    "}\n",
    "\n",
    "FibonacciExample.main(null);"
   ]
  },
  {
   "cell_type": "markdown",
   "id": "57ddb16b",
   "metadata": {},
   "source": [
    "### Fibonacci While Loop"
   ]
  },
  {
   "cell_type": "code",
   "execution_count": 13,
   "id": "1af9a371",
   "metadata": {},
   "outputs": [
    {
     "name": "stdout",
     "output_type": "stream",
     "text": [
      "Fibonacci Series of 16 numbers:0 1 1 2 3 5 8 13 21 34 55 89 144 233 377 610 "
     ]
    }
   ],
   "source": [
    "//Using  While Loop\n",
    "public class FibonacciWhileExample {\n",
    "\tpublic static void main(String[] args) \n",
    "\t{\n",
    "\t\t int maxValue = 16, previousNumber = 0, nextNumber = 1;\n",
    "\t        System.out.print(\"Fibonacci Series of \"+maxValue+\" numbers:\");\n",
    " \n",
    "\t        int i=1;\n",
    "\t        while(i <= maxValue)\n",
    "\t        {\n",
    "\t            System.out.print(previousNumber+\" \");\n",
    "\t            int sum = previousNumber + nextNumber;\n",
    "\t            previousNumber = nextNumber;\n",
    "\t            nextNumber = sum;\n",
    "\t            i++;\n",
    "\t        }\n",
    " \n",
    "\t}\n",
    " \n",
    "}\n",
    "\n",
    "FibonacciWhileExample.main(null);"
   ]
  },
  {
   "cell_type": "markdown",
   "id": "4536a764",
   "metadata": {},
   "source": [
    "### Fibonacci Recusion"
   ]
  },
  {
   "cell_type": "code",
   "execution_count": 14,
   "id": "21b6953f",
   "metadata": {},
   "outputs": [
    {
     "name": "stdout",
     "output_type": "stream",
     "text": [
      "Fibonacci Series of 16 numbers: 0 1 1 2 3 5 8 13 21 34 55 89 144 233 377 610 "
     ]
    }
   ],
   "source": [
    "//Using Recursion\n",
    "public class FibonacciCalc{\n",
    "\tpublic static int fibonacciRecursion(int n){\n",
    "\tif(n == 0){\n",
    "\t\treturn 0;\n",
    "\t}\n",
    "\tif(n == 1 || n == 2){\n",
    "\t\t\treturn 1;\n",
    "\t\t}\n",
    "\treturn fibonacciRecursion(n-2) + fibonacciRecursion(n-1);\n",
    "\t}\n",
    "    public static void main(String args[]) {\n",
    "\tint maxValue = 16;\n",
    "\tSystem.out.print(\"Fibonacci Series of \"+maxValue+\" numbers: \");\n",
    "\tfor(int i = 0; i < maxValue; i++){\n",
    "\t\t\tSystem.out.print(fibonacciRecursion(i) +\" \");\n",
    "\t\t}\n",
    "\t}\n",
    "}\n",
    "\n",
    "FibonacciCalc.main(null);"
   ]
  },
  {
   "cell_type": "markdown",
   "id": "d19308d1",
   "metadata": {},
   "source": [
    "#### Logic Behind It\n",
    "\n",
    "#### Any function with the capacity to call itself is said to be recursive.\n",
    "\n",
    "#### A number is entered into the Java Fibonacci recursion function. Because the Fibonacci sequence in Java begins with 0, 1, 1, the check is made for 0, 1, 2 and the result is 0, 1, 1.\n",
    "\n",
    "#### The function will call itself again if the argument n is greater than 3. The call is placed twice. Let's look at an example of the Fibonacci Series in Java utilizing recursion with a 4 as the input."
   ]
  }
 ],
 "metadata": {
  "kernelspec": {
   "display_name": "Java",
   "language": "java",
   "name": "java"
  },
  "language_info": {
   "codemirror_mode": "java",
   "file_extension": ".jshell",
   "mimetype": "text/x-java-source",
   "name": "java",
   "pygments_lexer": "java",
   "version": "11.0.16+8-post-Ubuntu-0ubuntu120.04"
  },
  "vscode": {
   "interpreter": {
    "hash": "ba69a24433a962cb8da2b0fb9b62ca0bf2ff22e4f631a9437fb3eefc8eca3549"
   }
  }
 },
 "nbformat": 4,
 "nbformat_minor": 5
}
