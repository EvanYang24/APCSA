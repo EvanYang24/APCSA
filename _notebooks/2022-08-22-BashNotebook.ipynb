{
 "cells": [
  {
   "cell_type": "markdown",
   "metadata": {},
   "source": [
    "# Bash Notebook\n",
    "- categories: [jupyter]"
   ]
  },
  {
   "cell_type": "code",
   "execution_count": 1,
   "metadata": {
    "vscode": {
     "languageId": "shellscript"
    }
   },
   "outputs": [
    {
     "name": "stdout",
     "output_type": "stream",
     "text": [
      "Python 3.9.12\n",
      "Python 2.7.18\n",
      "\n",
      "openjdk 11.0.16 2022-07-19\n",
      "OpenJDK Runtime Environment (build 11.0.16+8-post-Ubuntu-0ubuntu120.04)\n",
      "OpenJDK 64-Bit Server VM (build 11.0.16+8-post-Ubuntu-0ubuntu120.04, mixed mode, sharing)\n",
      "javac 11.0.16\n",
      "\n",
      "conda 4.14.0\n",
      "\u001b[01;31m\u001b[Kjupyter\u001b[m\u001b[K                   1.0.0            py39h06a4308_7  \n",
      "\u001b[01;31m\u001b[Kjupyter\u001b[m\u001b[K_client            6.1.12             pyhd3eb1b0_0  \n",
      "\u001b[01;31m\u001b[Kjupyter\u001b[m\u001b[K_console           6.4.0              pyhd3eb1b0_0  \n",
      "\u001b[01;31m\u001b[Kjupyter\u001b[m\u001b[K_core              4.9.2            py39h06a4308_0  \n",
      "\u001b[01;31m\u001b[Kjupyter\u001b[m\u001b[K_server            1.13.5             pyhd3eb1b0_0  \n",
      "\u001b[01;31m\u001b[Kjupyter\u001b[m\u001b[Klab                3.3.2              pyhd3eb1b0_0  \n",
      "\u001b[01;31m\u001b[Kjupyter\u001b[m\u001b[Klab_pygments       0.1.2                      py_0  \n",
      "\u001b[01;31m\u001b[Kjupyter\u001b[m\u001b[Klab_server         2.10.3             pyhd3eb1b0_1  \n",
      "\u001b[01;31m\u001b[Kjupyter\u001b[m\u001b[Klab_widgets        1.0.0              pyhd3eb1b0_1  \n",
      "\n",
      "Selected Jupyter core packages...\n",
      "IPython          : 8.2.0\n",
      "ipykernel        : 6.9.1\n",
      "ipywidgets       : 7.6.5\n",
      "jupyter_client   : 6.1.12\n",
      "jupyter_core     : 4.9.2\n",
      "jupyter_server   : 1.13.5\n",
      "jupyterlab       : 3.3.2\n",
      "nbclient         : 0.5.13\n",
      "nbconvert        : 6.4.4\n",
      "nbformat         : 5.3.0\n",
      "notebook         : 6.4.8\n",
      "qtconsole        : 5.3.0\n",
      "traitlets        : 5.1.1\n",
      "Available kernels:\n",
      "  bash          /home/psych-24/.local/share/jupyter/kernels/bash\n",
      "  java          /home/psych-24/.local/share/jupyter/kernels/java\n",
      "  javascript    /home/psych-24/.local/share/jupyter/kernels/javascript\n",
      "  python3       /home/psych-24/.local/share/jupyter/kernels/python3\n",
      "\n",
      "3.10.10\n"
     ]
    }
   ],
   "source": [
    "python --version\n",
    "python2 --version\n",
    "echo \"\"\n",
    "\n",
    "java --version\n",
    "javac --version\n",
    "echo \"\"\n",
    "\n",
    "conda --version\n",
    "conda list | grep \"jupyter\"\n",
    "echo \"\"\n",
    "\n",
    "jupyter --version\n",
    "jupyter kernelspec list\n",
    "echo \"\"\n",
    "\n",
    "npm -version"
   ]
  }
 ],
 "metadata": {
  "kernelspec": {
   "display_name": "Bash",
   "language": "bash",
   "name": "bash"
  },
  "language_info": {
   "codemirror_mode": "shell",
   "file_extension": ".sh",
   "mimetype": "text/x-sh",
   "name": "bash"
  },
  "orig_nbformat": 4,
  "vscode": {
   "interpreter": {
    "hash": "949777d72b0d2535278d3dc13498b2535136f6dfe0678499012e853ee9abcab1"
   }
  }
 },
 "nbformat": 4,
 "nbformat_minor": 2
}
